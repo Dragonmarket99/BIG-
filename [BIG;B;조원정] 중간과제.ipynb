{
 "cells": [
  {
   "cell_type": "markdown",
   "id": "bd103075-61a9-4e88-b9bb-599a0d606486",
   "metadata": {
    "tags": []
   },
   "source": [
    "# 1. 정규 표현식 (Regular Expression)"
   ]
  },
  {
   "cell_type": "markdown",
   "id": "96e48279-3127-4e67-8be0-d4d808296ec9",
   "metadata": {
    "tags": []
   },
   "source": [
    "## 1.1. 필요성"
   ]
  },
  {
   "cell_type": "markdown",
   "id": "77508751-d3ac-48f5-937e-81ffad2f1ee6",
   "metadata": {},
   "source": [
    "정규 표현식(Regular Expression)은 문자열에서 패턴을 찾거나 매칭하기 위해 사용되는 특별한 문자열 패턴이다. 이는 컴퓨터 과학과 텍스트 처리 분야에서 널리 사용되는 강력한 도구이다.\n",
    "\n",
    "정규 표현식은 다양한 용도로 사용될 수 있으며, 주요한 목적은 다음과 같다:\n",
    "\n",
    "1. 검색 및 매칭: 특정 패턴이나 규칙에 일치하는 문자열을 찾을 수 있다. 예를 들어, 이메일 주소, 전화번호, 우편번호 등과 같은 특정 형식을 갖는 문자열을 찾을 때 정규 표현식을 사용할 수 있다.\n",
    "\n",
    "2. 문자열 대체: 문자열 내에서 특정 패턴을 다른 문자열로 대체할 수 있다. 예를 들어, 특정 단어를 다른 단어로 대체하거나, 형식을 통일하기 위해 문자열 내의 특정 패턴을 변경할 수 있다.\n",
    "\n",
    "3. 유효성 검사: 입력된 데이터가 특정 형식이나 규칙에 부합하는지 확인할 수 있다. 예를 들어, 사용자로부터 입력받은 이메일 주소나 비밀번호가 유효한 형식에 맞는지 확인할 때 정규 표현식을 사용할 수 있다.\n",
    "\n",
    "4. 데이터 추출: 주어진 텍스트에서 원하는 정보를 추출할 수 있다. 예를 들어, 웹 페이지에서 특정 패턴을 갖는 링크나 데이터를 추출하거나, 로그 파일에서 특정 이벤트를 추출할 수 있다.\n",
    "\n",
    "정규 표현식은 강력하고 유연한 검색 및 매칭 도구로, 다양한 프로그래밍 언어와 텍스트 편집기에서 지원된다. 그러므로 텍스트 처리, 데이터 분석, 웹 개발, 시스템 관리 등 다양한 분야에서 정규 표현식은 필수적인 도구로 사용된다."
   ]
  },
  {
   "cell_type": "markdown",
   "id": "b618ed04-6fad-4c31-8ad8-4762d2d7c755",
   "metadata": {},
   "source": [
    "## 1.2. 파이썬에서의 기본 사용법"
   ]
  },
  {
   "cell_type": "markdown",
   "id": "ca2de73a-85a1-487f-8539-f04efe032032",
   "metadata": {},
   "source": [
    "Python에서는 re 모듈을 사용하여 정규 표현식을 다룰 수 있다. re 모듈은 정규 표현식을 컴파일하고 패턴 매칭을 수행하는 다양한 함수와 메서드를 제공한다. 아래는 정규 표현식을 사용하는 간단한 예제이다:"
   ]
  },
  {
   "cell_type": "code",
   "execution_count": 72,
   "id": "1b5b5dc1-a29c-40d7-b84b-48869f8d9e63",
   "metadata": {},
   "outputs": [
    {
     "name": "stdout",
     "output_type": "stream",
     "text": [
      "매치 발견: apple\n",
      "대체 결과: I have an orange and a banana.\n",
      "날짜: 2023 05 23\n"
     ]
    }
   ],
   "source": [
    "import re\n",
    "\n",
    "# 패턴 매칭 예제\n",
    "pattern = r\"apple\"\n",
    "text = \"I have an apple and a banana.\"\n",
    "match = re.search(pattern, text)\n",
    "if match:\n",
    "    print(\"매치 발견:\", match.group())  # \"apple\" 출력\n",
    "\n",
    "# 문자열 대체 예제\n",
    "pattern = r\"apple\"\n",
    "replacement = \"orange\"\n",
    "new_text = re.sub(pattern, replacement, text)\n",
    "print(\"대체 결과:\", new_text)  # \"I have an orange and a banana.\" 출력\n",
    "\n",
    "# 패턴 추출 예제\n",
    "pattern = r\"(\\d{4})-(\\d{2})-(\\d{2})\"  # 날짜 패턴 (YYYY-MM-DD)\n",
    "text = \"Today is 2023-05-23.\"\n",
    "match = re.search(pattern, text)\n",
    "if match:\n",
    "    year = match.group(1)\n",
    "    month = match.group(2)\n",
    "    day = match.group(3)\n",
    "    print(\"날짜:\", year, month, day)  # \"날짜: 2023 05 23\" 출력\n"
   ]
  },
  {
   "cell_type": "markdown",
   "id": "93060925-c7ee-4a3b-817a-bd7d2d5ff19c",
   "metadata": {},
   "source": [
    "위의 예제에서 re.search() 함수는 주어진 텍스트에서 첫 번째로 매치되는 패턴을 찾는다. re.sub() 함수는 주어진 텍스트에서 패턴과 일치하는 부분을 대체 문자열로 변경한다. re.group() 메서드는 매치된 부분을 추출할 때 사용된다. 패턴 내의 괄호를 사용하여 그룹을 정의하고, group() 메서드에 인덱스를 전달하여 해당 그룹을 추출할 수 있다.\n",
    "더 복잡한 정규 표현식을 사용하려면 Python의 정규 표현식 문법에 대해 자세히 알아보는 것이 좋다. re 모듈은 많은 다양한 함수와 옵션을 제공하므로, 필요에 따라 공식 Python 문서나 정규 표현식 관련 자습서를 참조하여 추가적인 정보를 얻을 수 있다."
   ]
  },
  {
   "cell_type": "markdown",
   "id": "773071e7-441d-42d6-bd68-ca4fc26d7777",
   "metadata": {
    "tags": []
   },
   "source": [
    "# 2. 가비지 컬렉션 (Garbage Collection)"
   ]
  },
  {
   "cell_type": "markdown",
   "id": "02c92e56-8cc6-41dc-85ee-abfa059a8fa3",
   "metadata": {},
   "source": [
    "## 2.1. 필요성"
   ]
  },
  {
   "cell_type": "markdown",
   "id": "1c2e86c6-fc71-401e-9e31-536b831ce012",
   "metadata": {},
   "source": [
    "가비지 컬렉션은 프로그래밍 언어나 런타임 환경에서 자동적으로 동적으로 할당된 메모리를 관리하는 메커니즘이다. 가비지 컬렉션은 프로그래머가 명시적으로 메모리를 할당하거나 해제하는 작업을 수행하지 않고도 메모리를 효율적으로 사용할 수 있게 해준다.\n",
    "\n",
    "가비지 컬렉션은 다음과 같은 이유로 필요하다:\n",
    "\n",
    "1. 메모리 누수 방지: 가비지 컬렉션은 메모리 누수를 방지한다. 메모리 누수는 프로그램에서 더 이상 필요하지 않은 메모리를 해제하지 않아 메모리가 점차 부족해지는 상황을 말한다. 가비지 컬렉션은 더 이상 참조되지 않는 객체를 탐지하고 자동으로 해제하여 메모리를 회수한다.\n",
    "\n",
    "2. 편의성과 생산성: 가비지 컬렉션은 프로그래머가 메모리 관리에 신경을 쓰지 않도록 해준다. 명시적인 메모리 할당과 해제를 수동으로 처리하는 작업을 하지 않아도 되므로 개발자는 더 높은 수준의 추상화와 논리에 집중할 수 있다. 이는 개발 생산성을 향상시키고 버그를 줄이는 데 큰 도움이 된다.\n",
    "\n",
    "3. 동적 메모리 할당 지원: 가비지 컬렉션은 동적으로 할당된 메모리를 효율적으로 관리할 수 있도록 해준다. 프로그램이 실행 중에 동적으로 메모리를 할당하고 해제하는 경우, 가비지 컬렉션은 더 이상 사용되지 않는 메모리를 식별하고 자동으로 회수하여 메모리 사용량을 최적화한다.\n",
    "\n",
    "4. 메모리 안전성: 가비지 컬렉션은 일반적으로 메모리 관련 오류를 방지하고 프로그램의 안정성을 높여준다.\n",
    "\n",
    "5. 병행성과 스케일링: 일부 가비지 컬렉션 알고리즘은 병행성을 지원하여 동시에 여러 스레드에서 가비지 컬렉션을 수행할 수 있다. 이는 프로그램의 성능을 향상시키고 멀티코어 시스템에서의 확장성을 제공한다."
   ]
  },
  {
   "cell_type": "markdown",
   "id": "dc6cc3f6-e188-42f3-86e9-067760e89ad6",
   "metadata": {},
   "source": [
    "## 2.2. 메커니즘"
   ]
  },
  {
   "cell_type": "markdown",
   "id": "f6214944-1522-4b95-aeb2-10e2475c1897",
   "metadata": {},
   "source": [
    "가비지 컬렉션의 메커니즘은 언어 및 런타임 환경에 따라 다를 수 있지만, 대부분의 가비지 컬렉션 시스템은 다음과 같은 기본 원리를 따른다:\n",
    "\n",
    "1. Reachability(도달 가능성) 판별: 가비지 컬렉션은 메모리 상에서 더 이상 참조되지 않는 객체를 식별하여 회수한다. 이를 위해 가비지 컬렉션은 도달 가능성 판별을 수행한다. 시작점으로 지정된 \"루트(root)\" 객체들을 기준으로 시작하여, 객체 간의 참조 체인을 따라가며 도달 가능한 객체들을 식별한다.\n",
    "\n",
    "2. Marking(표시): 도달 가능한 객체들을 표시(marker)하여 가비지 컬렉션이 해당 객체들을 식별할 수 있도록 한다. 일반적으로 가비지 컬렉션은 \"stop-the-world\" 방식을 사용하여 프로그램 실행을 일시 중지하고, 모든 도달 가능한 객체들을 표시한다. 이를 \"마크 단계\"라고도 한다.\n",
    "\n",
    "3. Sweep(회수): 마크 단계 이후, 가비지 컬렉션은 마크되지 않은 객체들을 가비지로 판단하고 메모리를 회수한다. 이를 \"스윕 단계\"라고도 한다. 스윕 단계에서는 가비지로 판단된 객체들이 차지하고 있는 메모리를 해제하고, 해당 메모리 영역을 다시 사용할 수 있는 상태로 만든다.\n",
    "\n",
    "4. Compact(압축, 옵셔널): 일부 가비지 컬렉션 시스템은 추가로 압축 단계를 수행할 수도 있다. 압축은 메모리에서 가비지가 회수된 후, 남은 객체들을 한 곳으로 모으고 메모리 단편화를 최소화하는 작업이다. 이를 통해 메모리 사용의 효율성을 높일 수 있다.\n",
    "\n",
    "가비지 컬렉션 메커니즘은 이러한 단계를 반복적으로 수행하면서 메모리 상에서 가비지를 회수하여 최적의 메모리 사용을 유지한다. 다양한 알고리즘과 접근 방식이 있으며, 성능, 일시 중지 시간, 병행성 등을 고려하여 가비지 컬렉션 알고리즘을 선택하고 조정할 수 있다."
   ]
  },
  {
   "cell_type": "markdown",
   "id": "a071aa23-85cb-4dbe-bc40-c3cfc41225c2",
   "metadata": {
    "tags": []
   },
   "source": [
    "## 2.3. 코드 작성법"
   ]
  },
  {
   "cell_type": "code",
   "execution_count": 75,
   "id": "aa619553-ba45-401a-80f0-8812dab02f42",
   "metadata": {},
   "outputs": [
    {
     "name": "stdout",
     "output_type": "stream",
     "text": [
      "Object 2 is being garbage collected.\n",
      "Object 1 is being garbage collected.\n",
      "Object 3 is being garbage collected.\n"
     ]
    },
    {
     "data": {
      "text/plain": [
       "7"
      ]
     },
     "execution_count": 75,
     "metadata": {},
     "output_type": "execute_result"
    }
   ],
   "source": [
    "class MyClass:\n",
    "    def __init__(self, name):\n",
    "        self.name = name\n",
    "\n",
    "    def __del__(self):\n",
    "        print(self.name + \" is being garbage collected.\")\n",
    "\n",
    "\n",
    "# 객체 생성\n",
    "obj1 = MyClass(\"Object 1\")\n",
    "obj2 = MyClass(\"Object 2\")\n",
    "obj3 = MyClass(\"Object 3\")\n",
    "\n",
    "# 객체 참조 변경\n",
    "obj1 = obj2\n",
    "obj2 = None\n",
    "obj3 = obj1\n",
    "\n",
    "# 가비지 컬렉션 요청\n",
    "import gc\n",
    "gc.collect()\n"
   ]
  },
  {
   "cell_type": "markdown",
   "id": "90b908df-999b-44cc-b26b-5a144c6db9d0",
   "metadata": {},
   "source": [
    "위의 코드에서는 MyClass 클래스를 정의하고, __del__() 메서드를 재정의하여 객체가 가비지 컬렉션될 때 실행될 동작을 정의한다. 이 메서드는 __del__() 이름으로 알려진 특수한 소멸자 메서드이다.\n",
    "\n",
    "프로그램을 실행하면 객체 참조의 변경과 가비지 컬렉션 요청에 따라 어떤 객체가 회수되는지 확인할 수 있다. 가비지 컬렉션은 gc.collect() 함수를 호출하여 수동으로 요청할 수 있다.\n",
    "\n",
    "파이썬은 자체적으로 가비지 컬렉션을 수행하므로 대부분의 경우 명시적인 가비지 컬렉션 요청은 필요하지 않다. 가비지 컬렉션 시스템은 더 이상 참조되지 않는 객체를 자동으로 탐지하고 회수한다."
   ]
  },
  {
   "cell_type": "markdown",
   "id": "e1278041-ebb2-405d-b1f4-d74c8b21f567",
   "metadata": {},
   "source": [
    "## 2.4. GC 로도 메모리 leak이 발생하는 경우"
   ]
  },
  {
   "cell_type": "markdown",
   "id": "cffd9d8c-6f8b-446e-b98c-c9587a1ca1af",
   "metadata": {},
   "source": [
    "가비지 컬렉션을 사용하는 언어에서 메모리 누수가 발생하는 일반적인 경우는 다음과 같다:\n",
    "\n",
    "1. 강한 참조(Strong reference) 유지: 객체를 생성한 후, 해당 객체를 강한 참조로 계속 유지하는 경우 메모리 누수가 발생할 수 있다. GC는 참조되지 않는 객체만 회수할 수 있으므로, 더 이상 필요하지 않은 객체를 가비지 컬렉션할 수 없다. 이런 경우, 객체를 사용한 후에는 해당 객체에 대한 참조를 해제해야 한다."
   ]
  },
  {
   "cell_type": "code",
   "execution_count": 76,
   "id": "38ed6d50-0af4-4cad-a5af-dc7318e4fb49",
   "metadata": {},
   "outputs": [],
   "source": [
    "class Person:\n",
    "    def __init__(self, name):\n",
    "        self.name = name\n",
    "\n",
    "    def __repr__(self):\n",
    "        return f\"Person({self.name})\"\n",
    "\n",
    "def memory_leak_example():\n",
    "    john = Person(\"John\")\n",
    "    jane = Person(\"Jane\")\n",
    "    \n",
    "    john.friends = jane\n",
    "    jane.friends = john\n",
    "    \n",
    "    # john과 jane을 사용한 후에도 참조를 유지하여 메모리 누수가 발생\n",
    "    # john = None\n",
    "    # jane = None\n",
    "\n",
    "    # 메모리 누수를 방지하기 위해 강한 참조 해제\n",
    "    # john.friends = None\n",
    "    # jane.friends = None\n",
    "\n",
    "    # 다른 코드 작성\n",
    "\n",
    "# 메모리 누수 발생 예시 실행\n",
    "memory_leak_example()\n"
   ]
  },
  {
   "cell_type": "markdown",
   "id": "623126e9-5e14-4e61-9ea5-9de2067e1c8b",
   "metadata": {},
   "source": [
    "위의 코드에서는 Person 클래스를 정의하고, name 속성을 가지고 있다. memory_leak_example() 함수는 john과 jane이라는 두 개의 Person 인스턴스를 생성하고, 서로를 friends 속성을 통해 강한 참조로 연결한다.\n",
    "\n",
    "주석 처리된 부분은 메모리 누수를 방지하기 위한 코드이다. 현재 상태에서는 john과 jane을 사용한 후에도 서로를 참조하고 있으므로, 가비지 컬렉션은 이 객체들을 회수할 수 없다. 이로 인해 메모리 누수가 발생한다.\n",
    "\n",
    "메모리 누수를 방지하려면 주석 처리된 부분을 활성화하여 john과 jane 객체의 friends 속성을 None으로 설정하여 강한 참조를 해제해야 한다. 이렇게 하면 가비지 컬렉션 시스템이 해당 객체들을 회수할 수 있게 된다.\n",
    "\n",
    "앞으로의 코드 작성에 따라서는 john과 jane을 사용한 후에 참조를 유지해야 하는 상황이 있을 수 있으므로, 메모리 누수를 방지하기 위해 적절한 시점에 강한 참조를 해제해주어야 한다."
   ]
  },
  {
   "cell_type": "markdown",
   "id": "abf0d904-2d44-4af9-a872-c564aaff96df",
   "metadata": {},
   "source": [
    "2. 순환 참조(Reference cycle): 두 개 이상의 객체가 서로를 참조하는 순환 구조가 형성되는 경우, 가비지 컬렉션에서 해당 객체들을 회수하지 못하고 메모리 누수가 발생할 수 있다. 이러한 순환 참조를 해결하기 위해서는 약한 참조(Weak reference)나 소유권 관리 등의 메커니즘을 사용하여 순환 구조를 끊어주어야 한다."
   ]
  },
  {
   "cell_type": "code",
   "execution_count": 77,
   "id": "6f79bae6-f2a7-47b4-ae31-a838e70d7913",
   "metadata": {},
   "outputs": [],
   "source": [
    "class A:\n",
    "    def __init__(self):\n",
    "        self.b = None\n",
    "\n",
    "class B:\n",
    "    def __init__(self):\n",
    "        self.a = None\n",
    "\n",
    "def memory_leak_example():\n",
    "    obj_a = A()\n",
    "    obj_b = B()\n",
    "    obj_a.b = obj_b\n",
    "    obj_b.a = obj_a\n",
    "    \n",
    "    # obj_a = None\n",
    "    # obj_b = None\n",
    "\n",
    "    # 메모리 누수를 방지하기 위해 순환 참조 해제\n",
    "    # obj_a.b = None\n",
    "    # obj_b.a = None\n",
    "\n",
    "    # 다른 코드 작성\n",
    "\n",
    "# 메모리 누수 발생 예시 실행\n",
    "memory_leak_example()\n"
   ]
  },
  {
   "cell_type": "markdown",
   "id": "7d883d54-8cce-4cd1-932d-3b593cbcf53b",
   "metadata": {},
   "source": [
    "위의 코드에서는 A와 B라는 두 개의 클래스가 있다. memory_leak_example() 함수는 obj_a와 obj_b라는 두 개의 객체를 생성하고, 서로를 인스턴스 변수 b와 a를 통해 순환 참조로 연결한다.\n",
    "\n",
    "주석 처리된 부분은 메모리 누수를 방지하기 위한 코드이다. 현재 상태에서는 obj_a와 obj_b가 서로를 참조하고 있으므로, 가비지 컬렉션은 이 객체들을 회수할 수 없다. 이로 인해 메모리 누수가 발생한다.\n",
    "\n",
    "메모리 누수를 방지하려면 주석 처리된 부분을 활성화하여 obj_a와 obj_b의 순환 참조를 해제해야 한다. 이를 위해 obj_a.b와 obj_b.a를 None으로 설정하여 순환 참조를 끊어주어야 한다.\n",
    "\n",
    "순환 참조가 발생하는 경우, 약한 참조(Weak reference)나 소유권 관리 등의 메커니즘을 사용하여 순환 구조를 끊을 수 있다. 이를 통해 가비지 컬렉션 시스템이 해당 객체들을 회수할 수 있게 된다."
   ]
  },
  {
   "cell_type": "markdown",
   "id": "ecec3ba9-8db5-4d2f-99d7-f2605c2a0cbc",
   "metadata": {},
   "source": [
    "3. 외부 리소스 해제: 가비지 컬렉션은 주로 메모리 관리를 담당하지만, 외부 리소스(파일, 네트워크 연결 등)를 사용하는 경우 해당 리소스를 명시적으로 해제해야 한다. 가비지 컬렉션은 이러한 외부 리소스를 자동으로 해제하지 않으므로, 리소스 누수가 발생할 수 있다."
   ]
  },
  {
   "cell_type": "code",
   "execution_count": null,
   "id": "01442a1e-2341-434f-aca1-cb4528196e0a",
   "metadata": {},
   "outputs": [],
   "source": [
    "import requests\n",
    "\n",
    "def memory_leak_example():\n",
    "    while True:\n",
    "        response = requests.get(\"http://example.com\")\n",
    "        # response 사용\n",
    "        # ...\n",
    "\n",
    "        # response.close()  # 외부 리소스 해제하지 않음\n",
    "\n",
    "        # 다른 코드 작성\n",
    "\n",
    "# 메모리 누수 발생 예시 실행\n",
    "memory_leak_example()\n"
   ]
  },
  {
   "cell_type": "markdown",
   "id": "6733e7b7-f1df-4095-85e9-1c508789defe",
   "metadata": {},
   "source": [
    "위의 코드에서는 requests 라이브러리를 사용하여 HTTP GET 요청을 보내고, 응답을 받는 상황을 가정한다. memory_leak_example() 함수는 무한 루프에서 requests.get()을 호출하여 응답을 받은 후에 해당 응답을 사용하는 코드를 작성한다.\n",
    "\n",
    "하지만, 현재 상태에서는 response.close()를 호출하지 않아 외부 리소스인 HTTP 연결을 명시적으로 해제하지 않는다. 이렇게 되면 각 반복마다 새로운 연결이 생성되고 리소스가 해제되지 않으므로, 메모리 누수가 발생할 수 있다.\n",
    "\n",
    "외부 리소스를 해제하기 위해서는 적절한 시점에서 해당 리소스를 명시적으로 해제해야 한다. 예를 들어, response 객체를 사용한 후에는 response.close()를 호출하여 연결을 닫고 리소스를 해제하는 것이 바람직하다."
   ]
  },
  {
   "cell_type": "markdown",
   "id": "40f1faf6-acb1-452d-a552-5d2cd63d4e1f",
   "metadata": {},
   "source": [
    "**정리: 메모리 누수를 방지하기 위해서는 가비지 컬렉션 외에도 적절한 리소스 관리와 메모리 사용 패턴을 고려해야 한다. 알맞은 시점에 객체 참조를 해제하고, 외부 리소스를 적절하게 해제하는 등의 작업을 수행하여 메모리 누수를 방지할 수 있다.**"
   ]
  },
  {
   "cell_type": "markdown",
   "id": "308f6502-d7aa-4cbf-9dd6-cdca9be061bd",
   "metadata": {},
   "source": [
    "### 출처: ChatGPT"
   ]
  }
 ],
 "metadata": {
  "kernelspec": {
   "display_name": "anaconda-2022.05-py39",
   "language": "python",
   "name": "conda-env-anaconda-2022.05-py39-py"
  },
  "language_info": {
   "codemirror_mode": {
    "name": "ipython",
    "version": 3
   },
   "file_extension": ".py",
   "mimetype": "text/x-python",
   "name": "python",
   "nbconvert_exporter": "python",
   "pygments_lexer": "ipython3",
   "version": "3.9.12"
  }
 },
 "nbformat": 4,
 "nbformat_minor": 5
}
